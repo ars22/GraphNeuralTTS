{
 "cells": [
  {
   "cell_type": "markdown",
   "metadata": {},
   "source": [
    "## Creates PyG object from an HRG"
   ]
  },
  {
   "cell_type": "code",
   "execution_count": null,
   "metadata": {},
   "outputs": [],
   "source": [
    "import glob\n",
    "from sexpdata import loads\n",
    "from os.path import basename\n",
    "from tqdm import tqdm \n",
    "import json"
   ]
  },
  {
   "cell_type": "code",
   "execution_count": null,
   "metadata": {},
   "outputs": [],
   "source": [
    "def read_and_parse_hrg(pth: str):\n",
    "    hrg = []\n",
    "    with open(pth, \"r\", encoding ='ISO-8859-1') as f:\n",
    "        for line in f:\n",
    "            hrg.append(line.strip())\n",
    "    hrg = \" \".join(hrg)\n",
    "    parsed_hrg = loads(hrg)\n",
    "    return parsed_hrg"
   ]
  },
  {
   "cell_type": "code",
   "execution_count": null,
   "metadata": {},
   "outputs": [],
   "source": [
    "pth = '/usr0/home/amadaan/data/audio/LJSpeech-1.1/TTS/hrg/LJ016-0056.hrg'"
   ]
  },
  {
   "cell_type": "code",
   "execution_count": null,
   "metadata": {},
   "outputs": [],
   "source": [
    "parsed_hrg = read_and_parse_hrg(pth)"
   ]
  },
  {
   "cell_type": "code",
   "execution_count": null,
   "metadata": {},
   "outputs": [],
   "source": [
    "parsed_hrg"
   ]
  },
  {
   "cell_type": "code",
   "execution_count": null,
   "metadata": {},
   "outputs": [],
   "source": [
    "def nodes_edges_from_hrg(hrg_path):\n",
    "    parsed_hrg = read_and_parse_hrg(hrg_path)\n",
    "    res = []\n",
    "    for root in parsed_hrg:\n",
    "        word_tree = make_tree(root)\n",
    "        res.append({\n",
    "            \"word\": word_tree[0],\n",
    "            \"daughters\": word_tree[1:]\n",
    "        })\n",
    "    return res\n",
    "        \n",
    "def make_tree(root, rep=None, depth=0):\n",
    "    if depth == 2:\n",
    "        return\n",
    "    if rep is None:\n",
    "        rep = []\n",
    "    if parse_avl(root) != \"syl\":\n",
    "        rep.append(parse_avl(root))\n",
    "    for daughter in root[1:]:\n",
    "        make_tree(daughter, rep, depth=depth+1)\n",
    "        if parse_avl(root) == \"syl\":\n",
    "            rep.append(parse_syll(daughter))\n",
    "        elif parse_avl(daughter) != \"syl\":\n",
    "            rep.append(parse_avl(daughter))\n",
    "\n",
    "    return rep\n"
   ]
  },
  {
   "cell_type": "code",
   "execution_count": null,
   "metadata": {},
   "outputs": [],
   "source": [
    "def nodes_edges_from_hrg(hrg_path):\n",
    "    parsed_hrg = read_and_parse_hrg(hrg_path)\n",
    "    res = []\n",
    "    for root in parsed_hrg:\n",
    "        word_tree = make_tree_two_levels(root)\n",
    "        res.append({\n",
    "            \"word\": word_tree[0],\n",
    "            \"daughters\": word_tree[1:]\n",
    "        })\n",
    "    return res\n",
    "        \n",
    "def make_tree_two_levels(root, rep=None, depth=0):\n",
    "    if depth == 2:\n",
    "        return\n",
    "    if rep is None:\n",
    "        rep = []\n",
    "    if parse_avl(root) != \"syl\":\n",
    "        rep.append(parse_avl(root))\n",
    "    if parse_avl(root) == \"syl\":\n",
    "        tmp = []\n",
    "        for daughter in root[1:]:\n",
    "            tmp.append(parse_syll(daughter))\n",
    "        rep.append(tmp)\n",
    "    else:\n",
    "        for daughter in root[1:]:\n",
    "            make_tree_two_levels(daughter, rep, depth=depth+1)\n",
    "            if parse_avl(daughter) != \"syl\":\n",
    "                rep.append(parse_avl(daughter))\n",
    "\n",
    "    return rep"
   ]
  },
  {
   "cell_type": "code",
   "execution_count": null,
   "metadata": {},
   "outputs": [],
   "source": [
    "def parse_avl(node):\n",
    "    return node[0][1][1]\n",
    "\n",
    "def parse_syll(node):\n",
    "    return {\n",
    "        \"syll\": node[0][1][1],\n",
    "        \"dur\": node[0][2][1],\n",
    "        \"end\":  node[0][3][1]\n",
    "    }"
   ]
  },
  {
   "cell_type": "code",
   "execution_count": null,
   "metadata": {},
   "outputs": [],
   "source": [
    "nodes_edges_from_hrg(pth)"
   ]
  },
  {
   "cell_type": "code",
   "execution_count": null,
   "metadata": {},
   "outputs": [],
   "source": [
    "res = {}\n",
    "hrg_paths = glob.glob('/usr0/home/amadaan/data/audio/LJSpeech-1.1/TTS/hrg/*.hrg')\n",
    "for pth in tqdm(hrg_paths, total=len(hrg_paths)):\n",
    "    res[basename(pth).split(\".\")[0]] = nodes_edges_from_hrg(pth)\n",
    "    "
   ]
  },
  {
   "cell_type": "code",
   "execution_count": null,
   "metadata": {},
   "outputs": [],
   "source": [
    "res['LJ016-0056']"
   ]
  },
  {
   "cell_type": "code",
   "execution_count": null,
   "metadata": {},
   "outputs": [],
   "source": [
    "basepath = \"/usr0/home/amadaan/data/audio/LJSpeech-1.1/hrg\""
   ]
  },
  {
   "cell_type": "code",
   "execution_count": null,
   "metadata": {},
   "outputs": [],
   "source": [
    "meta_hrg = \"/usr0/home/amadaan/data/audio/LJSpeech-1.1/metadata_hrg_3.csv\""
   ]
  },
  {
   "cell_type": "code",
   "execution_count": null,
   "metadata": {},
   "outputs": [],
   "source": [
    "!head -1 \"/usr0/home/amadaan/data/audio/LJSpeech-1.1/metadata_hrg_3.csv\""
   ]
  },
  {
   "cell_type": "code",
   "execution_count": null,
   "metadata": {},
   "outputs": [],
   "source": [
    "with open(meta_hrg, \"w\") as fout:\n",
    "    for k, v in res.items():\n",
    "        write_json(f\"{basepath}/{k}.json\", v)\n",
    "        v_str = json.dumps(v)\n",
    "        fout.write(f\"{k}|{v_str}|{v_str}\\n\")\n",
    "    "
   ]
  },
  {
   "cell_type": "code",
   "execution_count": null,
   "metadata": {},
   "outputs": [],
   "source": [
    "def write_json(pth, d):\n",
    "    with open(pth, \"w\") as f:\n",
    "        json.dump(d, f)"
   ]
  },
  {
   "cell_type": "code",
   "execution_count": null,
   "metadata": {},
   "outputs": [],
   "source": [
    "LIST = [NODE, LIST]"
   ]
  }
 ],
 "metadata": {
  "language_info": {
   "name": "python",
   "pygments_lexer": "ipython3"
  }
 },
 "nbformat": 4,
 "nbformat_minor": 4
}
