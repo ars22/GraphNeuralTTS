{
 "cells": [
  {
   "cell_type": "markdown",
   "metadata": {},
   "source": [
    "### Flattens to LJSpeech Corpus"
   ]
  },
  {
   "cell_type": "code",
   "execution_count": null,
   "metadata": {},
   "outputs": [],
   "source": [
    "pth = \"/usr0/home/amadaan/data/audio/LJSpeech-1.1/TTS/hrg\""
   ]
  },
  {
   "cell_type": "code",
   "execution_count": null,
   "metadata": {},
   "outputs": [],
   "source": [
    "import glob\n",
    "from sexpdata import loads\n",
    "from os.path import basename"
   ]
  },
  {
   "cell_type": "code",
   "execution_count": null,
   "metadata": {},
   "outputs": [],
   "source": []
  },
  {
   "cell_type": "code",
   "execution_count": null,
   "metadata": {},
   "outputs": [],
   "source": [
    "basename('/usr0/home/amadaan/data/audio/LJSpeech-1.1/TTS/hrg/LJ016-0056.hrg').split(\".\")[0]"
   ]
  },
  {
   "cell_type": "code",
   "execution_count": null,
   "metadata": {},
   "outputs": [],
   "source": [
    "def read_and_parse_hrg(pth: str):\n",
    "    hrg = []\n",
    "    with open(pth, \"r\", encoding ='ISO-8859-1') as f:\n",
    "        for line in f:\n",
    "            hrg.append(line.strip())\n",
    "    hrg = \" \".join(hrg)\n",
    "    parsed_hrg = loads(hrg)\n",
    "    return parsed_hrg"
   ]
  },
  {
   "cell_type": "code",
   "execution_count": null,
   "metadata": {},
   "outputs": [],
   "source": [
    "def flatten_hrg(pth):\n",
    "    parsed_hrg = read_and_parse_hrg(pth)\n",
    "    flat_str = []\n",
    "    for root in parsed_hrg:\n",
    "        flat_str.append(\"-\".join(make_tree(root)[1:]))\n",
    "    return \" \".join(flat_str)\n",
    "        \n",
    "def make_tree(root, rep=None, depth=0):\n",
    "    if depth == 2:\n",
    "        return\n",
    "    if rep is None:\n",
    "        rep = []\n",
    "    if parse_avl(root) != \"syl\":\n",
    "        rep.append(parse_avl(root))\n",
    "    for daughter in root[1:]:\n",
    "        make_tree(daughter, rep, depth=depth+1)\n",
    "        if parse_avl(daughter) != \"syl\":\n",
    "            rep.append(parse_avl(daughter))\n",
    "    return rep\n",
    "\n",
    "def parse_avl(node):\n",
    "    return node[0][1][1]"
   ]
  },
  {
   "cell_type": "code",
   "execution_count": null,
   "metadata": {},
   "outputs": [],
   "source": [
    "flatten_hrg('/usr0/home/amadaan/data/audio/LJSpeech-1.1/TTS/hrg/LJ016-0056.hrg')"
   ]
  },
  {
   "cell_type": "code",
   "execution_count": null,
   "metadata": {},
   "outputs": [],
   "source": [
    "read_and_parse_hrg"
   ]
  },
  {
   "cell_type": "code",
   "execution_count": null,
   "metadata": {},
   "outputs": [],
   "source": [
    "def get_filename_hrg_map(pth):\n",
    "    res = {}\n",
    "    files = glob.glob(f\"{pth}/*.hrg\")\n",
    "    for file in files:\n",
    "        res[basename(file).split(\".\")[0]] = flatten_hrg(file)\n",
    "    return res\n",
    "filename_hrg_map = get_filename_hrg_map(pth)"
   ]
  },
  {
   "cell_type": "code",
   "execution_count": null,
   "metadata": {},
   "outputs": [],
   "source": [
    "with open(\"/usr0/home/amadaan/data/audio/LJSpeech-1.1/metadata-hrg-syll-only.csv\", \"w\") as fout:\n",
    "    for k, v in filename_hrg_map.items():\n",
    "        fout.write(f\"{k}|{v}|{v}\\n\")\n",
    "    "
   ]
  },
  {
   "cell_type": "code",
   "execution_count": null,
   "metadata": {},
   "outputs": [],
   "source": []
  }
 ],
 "metadata": {
  "language_info": {
   "name": "python",
   "pygments_lexer": "ipython3"
  }
 },
 "nbformat": 4,
 "nbformat_minor": 4
}
