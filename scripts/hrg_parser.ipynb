{
 "cells": [
  {
   "cell_type": "code",
   "execution_count": null,
   "metadata": {},
   "outputs": [],
   "source": [
    "import json\n",
    "import sys\n",
    "from sklearn.model_selection import train_test_split\n",
    "from typing import List, Tuple, Set\n",
    "import networkx as nx\n",
    "from tqdm import tqdm\n",
    "import matplotlib.pyplot as plt\n",
    "from collections import namedtuple\n",
    "import copy\n",
    "from networkx.drawing.nx_agraph import write_dot\n",
    "from networkx.algorithms.community import greedy_modularity_communities\n",
    "from networkx.drawing import nx_pydot\n",
    "from sexpdata import loads\n",
    "%matplotlib inline"
   ]
  },
  {
   "cell_type": "code",
   "execution_count": null,
   "metadata": {},
   "outputs": [],
   "source": []
  },
  {
   "cell_type": "code",
   "execution_count": null,
   "metadata": {},
   "outputs": [],
   "source": [
    "def read_and_parse_hrg(pth: str):\n",
    "    hrg = []\n",
    "    with open(pth, \"r\") as f:\n",
    "        for line in f:\n",
    "            hrg.append(line.strip())\n",
    "    hrg = \" \".join(hrg)\n",
    "    parsed_hrg = loads(hrg)\n",
    "    return parsed_hrg"
   ]
  },
  {
   "cell_type": "code",
   "execution_count": null,
   "metadata": {},
   "outputs": [],
   "source": [
    "def plot_hrg(pth):\n",
    "    parsed_hrg = read_and_parse_hrg(pth)\n",
    "    for root in parsed_hrg:\n",
    "        G = make_tree(root)\n",
    "        plot_graph(G)\n",
    "\n",
    "def make_tree(root, G=None):\n",
    "    if G is None:\n",
    "        G = nx.DiGraph()\n",
    "    G.add_node(parse_avl(root))\n",
    "    for daughter in root[1:]:\n",
    "        make_tree(daughter, G)\n",
    "        G.add_edge(parse_avl(root), parse_avl(daughter))\n",
    "    return G\n",
    "\n",
    "def parse_avl(node):\n",
    "    return node[0][1][1]\n",
    "\n",
    "def plot_graph(G):\n",
    "    nx.draw(G, arrows=True, with_labels=True, pos=nx.nx_agraph.graphviz_layout(G, prog='dot'),\n",
    "           node_size=1800, node_color=\"skyblue\")\n",
    "    plt.show()"
   ]
  },
  {
   "cell_type": "code",
   "execution_count": null,
   "metadata": {},
   "outputs": [],
   "source": [
    "plot_hrg(\"../data/arctic_a0001.hrg\")"
   ]
  },
  {
   "cell_type": "code",
   "execution_count": null,
   "metadata": {},
   "outputs": [],
   "source": []
  },
  {
   "cell_type": "code",
   "execution_count": null,
   "metadata": {},
   "outputs": [],
   "source": [
    "def to_nx_with_attr(pth) -> nx.Graph:\n",
    "        parsed_hrg = read_and_parse_hrg(pth)\n",
    "        G = nx.DiGraph()\n",
    "        edge_attr = {}\n",
    "        for i in range(len(parsed_hrg)):  # for each word\n",
    "            word = parsed_hrg[i][0][1][1]\n",
    "            G.add_node(word)\n",
    "            num_syllables = len(parsed_hrg[i][1:])\n",
    "            for j in range(1, num_syllables + 1):  # for each syl\n",
    "                num_components = len(parsed_hrg[i][j]) - 1 \n",
    "                for k in range(1, num_components + 1):\n",
    "                    \n",
    "                    syl = f\"{parsed_hrg[i][j][k][0][1][1]}-{i}\"  # each syl is tied to a word\n",
    "                    syl_dur = str(round(parsed_hrg[i][j][k][0][2][1] * 100, 2))\n",
    "                    syl_end = str(round(parsed_hrg[i][j][k][0][3][1] * 100, 2))\n",
    "                    G.add_node(syl)\n",
    "                    G.add_node(syl_end)\n",
    "                    G.add_node(syl_dur)\n",
    "                    \n",
    "                    G.add_edge(word, syl)\n",
    "                    edge_attr[(word, syl)] = \"syl\"\n",
    "                    \n",
    "\n",
    "                    G.add_edge(syl, syl_end)\n",
    "                    edge_attr[(syl, syl_end)] = \"end\"\n",
    "                    \n",
    "                    G.add_edge(syl, syl_dur)\n",
    "                    edge_attr[(syl, syl_dur)] = \"dur\"                   \n",
    "                    \n",
    "        return G, edge_attr"
   ]
  },
  {
   "cell_type": "code",
   "execution_count": null,
   "metadata": {},
   "outputs": [],
   "source": [
    "def attr_plot(G, edge_attr):\n",
    "    \n",
    "    f = plt.figure(figsize=(25, 25))\n",
    "\n",
    "    nx.set_edge_attributes = edge_attr\n",
    "    layout = nx.nx_agraph.graphviz_layout(G, prog='neato')\n",
    "    nx.draw_networkx_edge_labels(G, edge_labels=edge_attr, font_color='red', pos = layout)\n",
    "\n",
    "\n",
    "    nx.draw(G, arrows=True, with_labels=True, edge_attributes = nx.get_edge_attributes(G,'dot'),\n",
    "            pos = layout, node_size=1800, node_color=\"pink\")"
   ]
  },
  {
   "cell_type": "code",
   "execution_count": null,
   "metadata": {},
   "outputs": [],
   "source": [
    "G, edge_attr = to_nx_with_attr(\"../data/arctic_a0001.hrg\")"
   ]
  },
  {
   "cell_type": "code",
   "execution_count": null,
   "metadata": {},
   "outputs": [],
   "source": [
    "attr_plot(G, edge_attr)"
   ]
  },
  {
   "cell_type": "code",
   "execution_count": null,
   "metadata": {},
   "outputs": [],
   "source": []
  }
 ],
 "metadata": {
  "language_info": {
   "name": "python",
   "pygments_lexer": "ipython3"
  }
 },
 "nbformat": 4,
 "nbformat_minor": 2
}
