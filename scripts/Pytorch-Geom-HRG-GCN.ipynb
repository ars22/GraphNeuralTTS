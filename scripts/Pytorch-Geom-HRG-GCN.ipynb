{
 "cells": [
  {
   "cell_type": "markdown",
   "metadata": {},
   "source": [
    "#### Reference: https://pytorch-geometric.readthedocs.io/en/latest/notes/introduction.html#learning-methods-on-graphs"
   ]
  },
  {
   "cell_type": "code",
   "execution_count": null,
   "metadata": {},
   "outputs": [],
   "source": [
    "from torch_geometric.data import Data\n",
    "import json\n",
    "from collections import Counter\n",
    "import torch\n",
    "from tqdm import tqdm\n",
    "from torch_geometric.nn import SGConv"
   ]
  },
  {
   "cell_type": "code",
   "execution_count": null,
   "metadata": {},
   "outputs": [],
   "source": []
  },
  {
   "cell_type": "code",
   "execution_count": null,
   "metadata": {},
   "outputs": [],
   "source": []
  },
  {
   "cell_type": "code",
   "execution_count": null,
   "metadata": {},
   "outputs": [],
   "source": [
    "def read_json_to_list(pth):\n",
    "    res = []\n",
    "    with open(pth, \"r\") as fin:\n",
    "        for line in fin:\n",
    "            res.append(json.loads(line.strip()))\n",
    "    return res       "
   ]
  },
  {
   "cell_type": "code",
   "execution_count": null,
   "metadata": {},
   "outputs": [],
   "source": [
    "hrgs = read_json_to_list(\"/usr0/home/amadaan/data/audio/LJSpeech-1.1/TTS/hrg.jsonl\")"
   ]
  },
  {
   "cell_type": "code",
   "execution_count": null,
   "metadata": {},
   "outputs": [],
   "source": [
    "len(hrgs)"
   ]
  },
  {
   "cell_type": "code",
   "execution_count": null,
   "metadata": {},
   "outputs": [],
   "source": [
    "hrgs[0]"
   ]
  },
  {
   "cell_type": "markdown",
   "metadata": {},
   "source": [
    "## Make vocab, init random embeddings"
   ]
  },
  {
   "cell_type": "code",
   "execution_count": null,
   "metadata": {},
   "outputs": [],
   "source": [
    "def get_tokens(hrgs):\n",
    "    tokens = []\n",
    "    for hrg in hrgs:\n",
    "        for word_rep in hrg[\"hrg\"]:\n",
    "            tokens.extend(get_tokens_from_word_rep(word_rep))\n",
    "    return tokens\n",
    "\n",
    "def get_tokens_from_word_rep(word_rep):\n",
    "    tokens = []\n",
    "    tokens.append(word_rep[\"word\"])\n",
    "    for daughter in word_rep[\"daughters\"]:\n",
    "        tokens.append(daughter[\"syll\"])\n",
    "    return tokens"
   ]
  },
  {
   "cell_type": "code",
   "execution_count": null,
   "metadata": {},
   "outputs": [],
   "source": [
    "def make_vocab(hrgs):\n",
    "    tokens = Counter(list(get_tokens(hrgs)))\n",
    "    \n",
    "    tokens = [w[0] for w in tokens.items() if w[1] > 1]\n",
    "    tokens.extend([str(i) for i in range(20)])  # position\n",
    "    tokens.extend([\"<W>\", \"<SYLL>\", \"<UNK>\"])\n",
    "    tok2id = {w:i for i, w in enumerate(tokens)}\n",
    "    id2tok = {i:w for w, i in tok2id.items()}\n",
    "    \n",
    "    return tok2id, id2tok\n",
    "    "
   ]
  },
  {
   "cell_type": "code",
   "execution_count": null,
   "metadata": {},
   "outputs": [],
   "source": [
    "tok2id, id2tok = make_vocab(hrgs)"
   ]
  },
  {
   "cell_type": "code",
   "execution_count": null,
   "metadata": {},
   "outputs": [],
   "source": [
    "def get_tok2id(tok):\n",
    "    if tok in tok2id:\n",
    "        return tok2id[tok]\n",
    "    return tok2id[\"<UNK>\"]"
   ]
  },
  {
   "cell_type": "code",
   "execution_count": null,
   "metadata": {},
   "outputs": [],
   "source": [
    "n_embed = 64"
   ]
  },
  {
   "cell_type": "code",
   "execution_count": null,
   "metadata": {},
   "outputs": [],
   "source": [
    "hrgs[0]"
   ]
  },
  {
   "cell_type": "code",
   "execution_count": null,
   "metadata": {},
   "outputs": [],
   "source": [
    "embeddings = torch.rand(len(tok2id), n_embed)"
   ]
  },
  {
   "cell_type": "markdown",
   "metadata": {},
   "source": [
    "### Convert HRGs to PyTorchGeom Objects"
   ]
  },
  {
   "cell_type": "code",
   "execution_count": null,
   "metadata": {},
   "outputs": [],
   "source": [
    "def hrg_to_graph(hrg):\n",
    "    \"\"\"\n",
    "    Converts the HRG to graph,\n",
    "    \n",
    "    Returns:\n",
    "        Edge index: (num_edges, 2)\n",
    "        Node features: (num_nodes, feature_dim)\n",
    "    \"\"\"\n",
    "    words, sylls = [], []\n",
    "    node_idx = {}\n",
    "    edges = []\n",
    "    node_features = []\n",
    "    syll_node_idxs = set()\n",
    "    for i, word_rep in enumerate(hrg[\"hrg\"]):\n",
    "        word_node = f\"{word_rep['word']}-{i}\"\n",
    "        word_node_id = get_tok2id(word_rep['word'])\n",
    "        \n",
    "        node_idx[word_node] = len(node_idx)\n",
    "        node_features.append(embeddings[word_node_id, :])\n",
    "        for j, syll in enumerate(word_rep[\"daughters\"]):\n",
    "            syll_node = f\"{syll['syll']}-{i}-{j}\"\n",
    "            syll_node_id = get_tok2id(syll['syll'])\n",
    "            \n",
    "            node_idx[syll_node] = len(node_idx)\n",
    "            syll_node_idxs.add(node_idx[syll_node])\n",
    "            \n",
    "            node_features.append(embeddings[syll_node_id, :])\n",
    "            edges.append([node_idx[word_node], node_idx[syll_node]])\n",
    "    return torch.tensor(edges, dtype=torch.long), torch.stack(node_features).float(),\\\n",
    "           torch.tensor(list(syll_node_idxs), dtype=torch.long)"
   ]
  },
  {
   "cell_type": "code",
   "execution_count": null,
   "metadata": {},
   "outputs": [],
   "source": [
    "hrg_to_graph(hrgs[0])[2]"
   ]
  },
  {
   "cell_type": "code",
   "execution_count": null,
   "metadata": {},
   "outputs": [],
   "source": [
    "py_geom_graphs = []\n",
    "for hrg in tqdm(hrgs, total=len(hrgs)):\n",
    "    edge_index, node_features, syll_nodes = hrg_to_graph(hrg)\n",
    "    data = Data(x=node_features, edge_index=edge_index.t().contiguous(), syll_nodes=syll_nodes)\n",
    "    py_geom_graphs.append(data)\n",
    "    "
   ]
  },
  {
   "cell_type": "code",
   "execution_count": null,
   "metadata": {},
   "outputs": [],
   "source": [
    "from torch_geometric.data import DataLoader"
   ]
  },
  {
   "cell_type": "code",
   "execution_count": null,
   "metadata": {},
   "outputs": [],
   "source": [
    "loader = DataLoader(py_geom_graphs, batch_size=32, shuffle=True)\n"
   ]
  },
  {
   "cell_type": "code",
   "execution_count": null,
   "metadata": {},
   "outputs": [],
   "source": [
    "batches = []\n",
    "for batch in loader:\n",
    "    batches.append(batch)"
   ]
  },
  {
   "cell_type": "code",
   "execution_count": null,
   "metadata": {},
   "outputs": [],
   "source": [
    "type(batches[0])"
   ]
  },
  {
   "cell_type": "code",
   "execution_count": null,
   "metadata": {},
   "outputs": [],
   "source": [
    "from torch_geometric.data.batch import Batch"
   ]
  },
  {
   "cell_type": "code",
   "execution_count": null,
   "metadata": {},
   "outputs": [],
   "source": [
    "Batch.from_data_list(batches[0].to_data_list())"
   ]
  },
  {
   "cell_type": "code",
   "execution_count": null,
   "metadata": {},
   "outputs": [],
   "source": [
    "batches[0]"
   ]
  },
  {
   "cell_type": "code",
   "execution_count": null,
   "metadata": {},
   "outputs": [],
   "source": [
    "x = 0\n",
    "for g in batches[0].to_data_list():\n",
    "    x += g.x.shape[0]\n",
    "print(x)"
   ]
  },
  {
   "cell_type": "markdown",
   "metadata": {},
   "source": [
    "### Sample GCN"
   ]
  },
  {
   "cell_type": "code",
   "execution_count": null,
   "metadata": {},
   "outputs": [],
   "source": [
    "import torch\n",
    "import torch.nn.functional as F\n",
    "from torch_geometric.nn import GCNConv"
   ]
  },
  {
   "cell_type": "code",
   "execution_count": null,
   "metadata": {},
   "outputs": [],
   "source": [
    "class Net(torch.nn.Module):\n",
    "    def __init__(self):\n",
    "        super(Net, self).__init__()\n",
    "        self.conv1 = GCNConv(n_embed, 16)\n",
    "        self.conv2 = GCNConv(16, 200)\n",
    "\n",
    "    def forward(self, data):\n",
    "        x, edge_index = data.x, data.edge_index\n",
    "\n",
    "        x = self.conv1(x, edge_index)\n",
    "        x = F.relu(x)\n",
    "        x = F.dropout(x, training=self.training)\n",
    "        x = self.conv2(x, edge_index)\n",
    "\n",
    "        return F.log_softmax(x, dim=1)"
   ]
  },
  {
   "cell_type": "code",
   "execution_count": null,
   "metadata": {},
   "outputs": [],
   "source": [
    "conv1 = GCNConv(n_embed, 16).cuda()"
   ]
  },
  {
   "cell_type": "code",
   "execution_count": null,
   "metadata": {},
   "outputs": [],
   "source": [
    "x, edge_index = batches[0].x, batches[0].edge_index"
   ]
  },
  {
   "cell_type": "code",
   "execution_count": null,
   "metadata": {},
   "outputs": [],
   "source": [
    "conv1 = SGConv(\n",
    "            n_embed, 16, K=5, cached=True).cuda()"
   ]
  },
  {
   "cell_type": "code",
   "execution_count": null,
   "metadata": {},
   "outputs": [],
   "source": [
    "x = conv1(x.cuda(), edge_index.cuda())"
   ]
  },
  {
   "cell_type": "code",
   "execution_count": null,
   "metadata": {},
   "outputs": [],
   "source": [
    "x"
   ]
  },
  {
   "cell_type": "code",
   "execution_count": null,
   "metadata": {},
   "outputs": [],
   "source": [
    "type(batch.x)"
   ]
  },
  {
   "cell_type": "code",
   "execution_count": null,
   "metadata": {},
   "outputs": [],
   "source": [
    "edge_index.shape"
   ]
  },
  {
   "cell_type": "code",
   "execution_count": null,
   "metadata": {},
   "outputs": [],
   "source": [
    "x.shape"
   ]
  },
  {
   "cell_type": "code",
   "execution_count": null,
   "metadata": {},
   "outputs": [],
   "source": [
    "x = conv1(x.cuda(), edge_index.cuda())"
   ]
  },
  {
   "cell_type": "code",
   "execution_count": null,
   "metadata": {},
   "outputs": [],
   "source": [
    "x.shape"
   ]
  },
  {
   "cell_type": "code",
   "execution_count": null,
   "metadata": {},
   "outputs": [],
   "source": [
    "batches[0].to_data_list()[0].syll_nodes.shape"
   ]
  },
  {
   "cell_type": "code",
   "execution_count": null,
   "metadata": {},
   "outputs": [],
   "source": [
    "batches[0].to_data_list()"
   ]
  },
  {
   "cell_type": "code",
   "execution_count": null,
   "metadata": {},
   "outputs": [],
   "source": [
    "x.shape"
   ]
  },
  {
   "cell_type": "code",
   "execution_count": null,
   "metadata": {},
   "outputs": [],
   "source": [
    "batch_graphs = batches[0].to_data_list()"
   ]
  },
  {
   "cell_type": "code",
   "execution_count": null,
   "metadata": {},
   "outputs": [],
   "source": [
    "batch_graphs[0].x.shape[0]"
   ]
  },
  {
   "cell_type": "code",
   "execution_count": null,
   "metadata": {},
   "outputs": [],
   "source": [
    "batch_graphs[0].syll_nodes.shape"
   ]
  },
  {
   "cell_type": "code",
   "execution_count": null,
   "metadata": {},
   "outputs": [],
   "source": [
    "offset = 0"
   ]
  },
  {
   "cell_type": "code",
   "execution_count": null,
   "metadata": {},
   "outputs": [],
   "source": [
    "x[offset + batch_graphs[0].syll_nodes]"
   ]
  },
  {
   "cell_type": "code",
   "execution_count": null,
   "metadata": {},
   "outputs": [],
   "source": [
    "offset += batch_graphs[0].x.shape[0]"
   ]
  },
  {
   "cell_type": "code",
   "execution_count": null,
   "metadata": {},
   "outputs": [],
   "source": [
    "x[offset + batch_graphs[1].syll_nodes].shape"
   ]
  },
  {
   "cell_type": "code",
   "execution_count": null,
   "metadata": {},
   "outputs": [],
   "source": [
    "??torch_geometric.data.batch.Batch"
   ]
  },
  {
   "cell_type": "code",
   "execution_count": null,
   "metadata": {},
   "outputs": [],
   "source": [
    "def break_into_utterances(x, batch):\n",
    "    offset = 0\n",
    "    res = []\n",
    "    batch_graphs = batch.to_data_list()\n",
    "    for graph in batch_graphs:\n",
    "        res.append(x[offset + graph.syll_nodes])\n",
    "        offset += graph.x.shape[0]\n",
    "    return res"
   ]
  },
  {
   "cell_type": "code",
   "execution_count": null,
   "metadata": {},
   "outputs": [],
   "source": [
    "res = break_into_utterances(x, batches[0])"
   ]
  },
  {
   "cell_type": "code",
   "execution_count": null,
   "metadata": {},
   "outputs": [],
   "source": [
    "res"
   ]
  },
  {
   "cell_type": "code",
   "execution_count": null,
   "metadata": {},
   "outputs": [],
   "source": []
  }
 ],
 "metadata": {
  "language_info": {
   "name": "python",
   "pygments_lexer": "ipython3"
  }
 },
 "nbformat": 4,
 "nbformat_minor": 4
}
