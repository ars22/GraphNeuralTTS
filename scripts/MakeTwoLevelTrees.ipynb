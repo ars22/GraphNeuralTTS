{
 "cells": [
  {
   "cell_type": "code",
   "execution_count": null,
   "metadata": {},
   "outputs": [],
   "source": [
    "from torch_geometric.data import Data\n",
    "import json\n",
    "from collections import Counter\n",
    "import torch\n",
    "from tqdm import tqdm"
   ]
  },
  {
   "cell_type": "code",
   "execution_count": null,
   "metadata": {},
   "outputs": [],
   "source": [
    "def read_json_to_list(pth):\n",
    "    res = []\n",
    "    with open(pth, \"r\") as fin:\n",
    "        for line in fin:\n",
    "            res.append(json.loads(line.strip().split(\"|\")[1]))\n",
    "    return res"
   ]
  },
  {
   "cell_type": "code",
   "execution_count": null,
   "metadata": {},
   "outputs": [],
   "source": [
    "data = read_json_to_list(\"/usr0/home/amadaan/data/audio/LJSpeech-1.1/metadata_hrg_3.csv\")"
   ]
  },
  {
   "cell_type": "code",
   "execution_count": null,
   "metadata": {},
   "outputs": [],
   "source": [
    "def get_tokens_from_hrg(hrgs):\n",
    "    def _get_tokens_from_word_rep(word_rep):\n",
    "        tokens = []\n",
    "        tokens.append(word_rep[\"word\"])\n",
    "        for daughter in word_rep[\"daughters\"]:\n",
    "            syllnode = \"\"\n",
    "            for syll in daughter:\n",
    "                tokens.append(syll[\"syll\"])\n",
    "                syllnode += tokens[-1]\n",
    "            tokens.append(syllnode)\n",
    "        return tokens\n",
    "    tokens = []\n",
    "    for hrg in hrgs:\n",
    "        #  print(hrg.keys())\n",
    "        for word_rep in hrg:\n",
    "            tokens.extend(_get_tokens_from_word_rep(word_rep))\n",
    "    return tokens"
   ]
  },
  {
   "cell_type": "code",
   "execution_count": null,
   "metadata": {},
   "outputs": [],
   "source": [
    "def init_vocab(hrgs):\n",
    "    tokens = Counter(list(get_tokens_from_hrg(hrgs)))\n",
    "    tokens = [w[0] for w in tokens.items() if w[1] > 1]\n",
    "    tokens.extend([str(i) for i in range(20)])  # position\n",
    "    tokens.extend([\"<W>\", \"<SYLL>\", \"<UNK>\"])\n",
    "    tok2id = {w: i for i, w in enumerate(tokens)}\n",
    "    id2tok = {i: w for w, i in tok2id.items()}\n",
    "    n_vocab = len(tok2id)\n",
    "    return tok2id, id2tok, n_vocab\n",
    "\n",
    "\n",
    "def get_tok2id(tok):\n",
    "    if tok in tok2id:\n",
    "        return tok2id[tok]\n",
    "    return tok2id[\"<UNK>\"]\n"
   ]
  },
  {
   "cell_type": "code",
   "execution_count": null,
   "metadata": {},
   "outputs": [],
   "source": [
    "tok2id, id2tok, n_vocab = init_vocab(data)"
   ]
  },
  {
   "cell_type": "code",
   "execution_count": null,
   "metadata": {},
   "outputs": [],
   "source": [
    "def hrg_to_graph(hrg):\n",
    "    \"\"\"\n",
    "    Converts the HRG to graph,\n",
    "\n",
    "    NOTE: idx -> index, a way to identify each node in the graph\n",
    "        ids -> id for a token returned by the vocab.\n",
    "        Idxs are primarily used for specifying the connectivity of the graph\n",
    "    Returns:\n",
    "        Edge index: (num_edges, 2)\n",
    "        Node features: (num_nodes, feature_dim)\n",
    "    \"\"\"\n",
    "    words, sylls = [], []\n",
    "    node_idx = {}\n",
    "    node_ids = []\n",
    "    x = []\n",
    "\n",
    "    edges = []\n",
    "\n",
    "    syll_node_idxs = []\n",
    "    for i, word_rep in enumerate(hrg):\n",
    "        word_node = f\"{word_rep['word']}-{i}\"\n",
    "        word_node_id = get_tok2id(word_rep['word'])\n",
    "        node_idx[word_node] = len(node_idx)\n",
    "        x.append(word_node_id)\n",
    "\n",
    "        for j, daughter in enumerate(word_rep[\"daughters\"]):\n",
    "            # make syll node\n",
    "            syll_parent_node = \"\"\n",
    "            for syll in daughter:\n",
    "                syll_parent_node += syll[\"syll\"]\n",
    "            syll_parent_node_id = get_tok2id(syll_parent_node)\n",
    "            x.append(syll_parent_node_id)\n",
    "            syll_parent_node = f\"{syll_parent_node}-{i}-{j}\"\n",
    "            node_idx[syll_parent_node] = len(node_idx)\n",
    "            edges.append([node_idx[word_node], node_idx[syll_parent_node]])\n",
    "            # now prepare phone nodes\n",
    "            for k, syll in enumerate(daughter):\n",
    "                \n",
    "                syll_node = f\"{syll['syll']}-{i}-{j}-{k}\"\n",
    "                syll_node_id = get_tok2id(syll['syll'])\n",
    "                node_idx[syll_node] = len(node_idx)\n",
    "\n",
    "                x.append(syll_node_id)\n",
    "                syll_node_idxs.append(node_idx[syll_node])\n",
    "\n",
    "                edges.append([node_idx[syll_parent_node], node_idx[syll_node]])\n",
    "\n",
    "    return Data(x=torch.tensor(x, dtype=torch.long), edge_index=torch.tensor(edges, dtype=torch.long).contiguous().t(),\n",
    "                syll_nodes=torch.tensor(syll_node_idxs, dtype=torch.long))\n"
   ]
  },
  {
   "cell_type": "code",
   "execution_count": null,
   "metadata": {},
   "outputs": [],
   "source": [
    "hrg_to_graph(data[0])"
   ]
  },
  {
   "cell_type": "code",
   "execution_count": null,
   "metadata": {},
   "outputs": [],
   "source": [
    "hrg_to_graph(data[3][:2])"
   ]
  },
  {
   "cell_type": "code",
   "execution_count": null,
   "metadata": {},
   "outputs": [],
   "source": [
    "d = hrg_to_graph(data[3][:2]); d"
   ]
  },
  {
   "cell_type": "code",
   "execution_count": null,
   "metadata": {},
   "outputs": [],
   "source": [
    "d.edge_index"
   ]
  },
  {
   "cell_type": "code",
   "execution_count": null,
   "metadata": {},
   "outputs": [],
   "source": [
    "d.x"
   ]
  },
  {
   "cell_type": "code",
   "execution_count": null,
   "metadata": {},
   "outputs": [],
   "source": []
  }
 ],
 "metadata": {
  "language_info": {
   "name": "python",
   "pygments_lexer": "ipython3"
  }
 },
 "nbformat": 4,
 "nbformat_minor": 4
}
