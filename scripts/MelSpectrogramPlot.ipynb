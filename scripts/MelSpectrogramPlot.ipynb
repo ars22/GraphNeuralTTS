{
 "cells": [
  {
   "cell_type": "code",
   "execution_count": null,
   "metadata": {},
   "outputs": [],
   "source": [
    "%matplotlib inline\n",
    "import librosa\n",
    "import librosa.filters\n",
    "import numpy as np\n",
    "from scipy import signal\n",
    "#from scipy.io import wavfile\n",
    "import matplotlib\n",
    "matplotlib.use('Agg')\n",
    "import matplotlib.pyplot as plt\n",
    "from os.path import join\n",
    "import soundfile as sf\n",
    "import torch\n",
    "import matplotlib.pyplot as plt\n",
    "import librosa.display\n",
    "\n",
    "import numpy as np\n",
    "import pandas as pd\n",
    "import librosa\n"
   ]
  },
  {
   "cell_type": "code",
   "execution_count": null,
   "metadata": {},
   "outputs": [],
   "source": [
    "pth = \"/usr0/home/amadaan/audio/tacotron_baseline/Tacotron-pytorch/training-adb/\""
   ]
  },
  {
   "cell_type": "code",
   "execution_count": null,
   "metadata": {},
   "outputs": [],
   "source": [
    "files = [\"odiya_s01_286-mel.npy\",\"telugu_s01_285-mel.npy\",\"malayalam_s02_286-mel.npy\",\n",
    "         \"odiya_s01_296-mel.npy\",\"bangla_s01_287-mel.npy\",\"malayalam_s01_297-mel.npy\",\"bangla_s01_277-mel.npy\",\"american_s04_101-mel.npy\",\"american_s06_101-mel.npy\",\"malayalam_s03_286-mel.npy\",\"telugu_s01_295-mel.npy\",\"telugu_s02_287-mel.npy\",\"american_s02_101-mel.npy\",\"american_s03_101-mel.npy\",\"american_s07_101-mel.npy\",\"american_s08_101-mel.npy\",\"malayalam_s02_276-mel.npy\",\"telugu_s02_297-mel.npy\",\"british_s01_101-mel.npy\",\"bangla_s02_298-mel.npy\",\"malayalam_s03_276-mel.npy\",\"malayalam_s02_296-mel.npy\",\"british_s02_101-mel.npy\",\"indian_s01_101-mel.npy\",\"malayalam_s03_296-mel.npy\",\"indian_s02_101-mel.npy\"]"
   ]
  },
  {
   "cell_type": "code",
   "execution_count": null,
   "metadata": {},
   "outputs": [],
   "source": [
    "for f in files:\n",
    "    librosa.display.specshow(np.load(f\"{pth}/{f}\"),\n",
    "               y_axis='mel', x_axis='time')\n",
    "    "
   ]
  },
  {
   "cell_type": "code",
   "execution_count": null,
   "metadata": {},
   "outputs": [],
   "source": [
    "librosa.display.specshow(np.load(f\"{pth}/{files[0]}\"),\n",
    "               y_axis='mel', x_axis='time')"
   ]
  },
  {
   "cell_type": "code",
   "execution_count": null,
   "metadata": {},
   "outputs": [],
   "source": [
    "librosa.display.specshow(np.load(f\"{pth}/american_s08_101-mel.npy\"),\n",
    "               y_axis='mel', x_axis='time')"
   ]
  },
  {
   "cell_type": "code",
   "execution_count": null,
   "metadata": {},
   "outputs": [],
   "source": [
    "# Make a new figure\n",
    "plt.figure(figsize=(12,4))\n",
    "\n",
    "# Display the spectrogram on a mel scale\n",
    "# sample rate and hop length parameters are used to render the time axis\n",
    "librosa.display.specshow(log_S, sr=sr, x_axis='time', y_axis='mel')"
   ]
  },
  {
   "cell_type": "code",
   "execution_count": null,
   "metadata": {},
   "outputs": [],
   "source": []
  },
  {
   "cell_type": "code",
   "execution_count": null,
   "metadata": {},
   "outputs": [],
   "source": [
    "wave_base = \"/usr0/home/amadaan/data/audio/accentdb/accent_db/wavs/\"\n"
   ]
  },
  {
   "cell_type": "code",
   "execution_count": null,
   "metadata": {},
   "outputs": [],
   "source": [
    "def plot(path):\n",
    "    sr = 16000\n",
    "    y = librosa.core.load(path, sr=sr)[0]\n",
    "    y = y[:100000] # shorten audio a bit for speed\n",
    "\n",
    "    window_size = 1024\n",
    "    window = np.hanning(window_size)\n",
    "    stft  = librosa.core.spectrum.stft(y, n_fft=window_size, hop_length=512, window=window)\n",
    "    out = 2 * np.abs(stft) / np.sum(window)\n",
    "\n",
    "    # For plotting headlessly\n",
    "    from matplotlib.backends.backend_agg import FigureCanvasAgg as FigureCanvas\n",
    "\n",
    "    fig = plt.Figure()\n",
    "    canvas = FigureCanvas(fig)\n",
    "    ax = fig.add_subplot(111)\n",
    "    p = librosa.display.specshow(librosa.amplitude_to_db(out, ref=np.max), ax=ax, y_axis='log', x_axis='time')\n",
    "    fig.savefig(f'{path}.png')"
   ]
  },
  {
   "cell_type": "code",
   "execution_count": null,
   "metadata": {},
   "outputs": [],
   "source": [
    "for file in files:\n",
    "    file = file.split(\"-\")[0] + \".wav\"\n",
    "    plot(f\"{wave_base}/{file}\")\n"
   ]
  },
  {
   "cell_type": "code",
   "execution_count": null,
   "metadata": {},
   "outputs": [],
   "source": [
    "filename"
   ]
  },
  {
   "cell_type": "code",
   "execution_count": null,
   "metadata": {},
   "outputs": [],
   "source": []
  }
 ],
 "metadata": {
  "language_info": {
   "name": "python",
   "pygments_lexer": "ipython3"
  }
 },
 "nbformat": 4,
 "nbformat_minor": 4
}
